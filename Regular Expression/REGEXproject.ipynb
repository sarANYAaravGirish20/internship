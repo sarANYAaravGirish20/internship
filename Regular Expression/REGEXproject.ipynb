{
 "cells": [
  {
   "cell_type": "code",
   "execution_count": 26,
   "id": "410c5b54",
   "metadata": {},
   "outputs": [
    {
     "name": "stdout",
     "output_type": "stream",
     "text": [
      "Python:Exercises::PHP:exercises:\n"
     ]
    }
   ],
   "source": [
    "1.#program to replace all occurrences of a space, comma, or dot with a colon.\n",
    "import re\n",
    "str =\"Python Exercises, PHP exercises.\"\n",
    "print(re.sub(\"[ .,]\",\":\",str))\n"
   ]
  },
  {
   "cell_type": "code",
   "execution_count": 61,
   "id": "8449a2e4",
   "metadata": {},
   "outputs": [
    {
     "name": "stdout",
     "output_type": "stream",
     "text": [
      "['elcome', 'ata', 'ained', 'ademy', 'earn', 'anytime']\n"
     ]
    }
   ],
   "source": [
    "#2)Write a Python program to find all words starting with 'a' or 'e' in a given string.\n",
    "str =\"Welcome to Data Trained Academy Learn anytime\"\n",
    "print(re.findall('[ae]\\w+',str))\n"
   ]
  },
  {
   "cell_type": "code",
   "execution_count": 4,
   "id": "359d4e33",
   "metadata": {},
   "outputs": [],
   "source": [
    "#3)#Create a function inpython to find all words that are at least 4 characters long in a string.The use of the re.compile() method is mandatory.\n",
    "def f1(string):\n",
    "    pattern ='[a-z,A-Z]{4}\\w+'\n",
    "    repatt=re.compile(pattern)\n",
    "    result=repatt.findall(string)\n",
    "    if result:\n",
    "        print(result)\n",
    "        return('contain atleast 4 characters')\n",
    "    else:\n",
    "        print(result)\n",
    "        return ('not contain atleast 4 characters')\n",
    "    \n",
    "    \n"
   ]
  },
  {
   "cell_type": "code",
   "execution_count": 5,
   "id": "a159b3b5",
   "metadata": {},
   "outputs": [
    {
     "name": "stdout",
     "output_type": "stream",
     "text": [
      "['TRAINED', 'EDUCATION', 'LEARN', 'EVERYTHING', 'sfghh', 'TRAINED']\n",
      "contain atleast 4 characters\n",
      "[]\n",
      "not contain atleast 4 characters\n"
     ]
    }
   ],
   "source": [
    "print(f1(\"DATA TRAINED EDUCATION LEARN EVERYTHING WITH sfghh DATA TRAINED\"))\n",
    "print(f1(\"he is a \"))"
   ]
  },
  {
   "cell_type": "code",
   "execution_count": 83,
   "id": "00cd00b7",
   "metadata": {},
   "outputs": [],
   "source": [
    "#4)Create a function in python to find all three, four, and five character words in a string. The use of the re.compile() method is mandatory\n",
    "def f1(string):\n",
    "    result=re.compile('[a-z,A-Z]{3,5}\\w+')\n",
    "    str1=result.findall(string)\n",
    "    return(str1)"
   ]
  },
  {
   "cell_type": "code",
   "execution_count": 84,
   "id": "a57ba6d9",
   "metadata": {},
   "outputs": [
    {
     "name": "stdout",
     "output_type": "stream",
     "text": [
      "['welcome', 'FLIPROBO', 'TECHNOLOGIES', 'BANGALORE']\n"
     ]
    }
   ],
   "source": [
    "print(f1('welcome to FLIPROBO TECHNOLOGIES BANGALORE'))"
   ]
  },
  {
   "cell_type": "code",
   "execution_count": 118,
   "id": "b27b8917",
   "metadata": {},
   "outputs": [],
   "source": [
    "#5Create a function in Python to remove the parenthesis in a list of strings.The use of the re.compile() method is mandatory.\n",
    "import re\n",
    "def f1(string):\n",
    "    reS=re.compile('[\\({})]')\n",
    "    for string1 in string:\n",
    "        print(re.sub(reS,\"\",string1))\n",
    "        \n",
    "        "
   ]
  },
  {
   "cell_type": "code",
   "execution_count": 119,
   "id": "d6e3fc75",
   "metadata": {},
   "outputs": [
    {
     "name": "stdout",
     "output_type": "stream",
     "text": [
      "example .com\n",
      "hr@fliprobo .com\n",
      "github .com\n",
      "Hello Data Science World\n",
      "Data Scientist\n",
      "None\n"
     ]
    }
   ],
   "source": [
    "print(f1([\"example (.com)\", \"hr@fliprobo (.com)\", \"github (.com)\", \"Hello (Data Science World)\", \"Data (Scientist)\"]))\n"
   ]
  },
  {
   "cell_type": "code",
   "execution_count": 23,
   "id": "d4b74e5a",
   "metadata": {},
   "outputs": [
    {
     "name": "stdout",
     "output_type": "stream",
     "text": [
      "[\"example\", \"hr@fliprobo\", \"github\", \"Hello\", \"Data\"]\n"
     ]
    }
   ],
   "source": [
    "#6)Write a python program to remove the parenthesis area from the text stored in the text file using Regular Expression.\n",
    "#Store given sample text in the text file and then to remove the parenthesis area from the text.\n",
    "with open(\"C:/Users/s/Documents/file/f3.txt\") as file:\n",
    "     for text in file:\n",
    "            paranthesis=re.sub(r\" ?\\([^)]+\\)\", \"\",text)\n",
    "            print(paranthesis)\n",
    "   "
   ]
  },
  {
   "cell_type": "code",
   "execution_count": null,
   "id": "1ed06b62",
   "metadata": {},
   "outputs": [],
   "source": []
  },
  {
   "cell_type": "code",
   "execution_count": 11,
   "id": "437509b5",
   "metadata": {},
   "outputs": [
    {
     "name": "stdout",
     "output_type": "stream",
     "text": [
      "['Importance', 'Of', 'Regular', 'Expressions', 'In', 'Python']\n"
     ]
    }
   ],
   "source": [
    "# 7)write a  regular expression in Python to split a string into uppercase letters.\n",
    "text =\"ImportanceOfRegularExpressionsInPython\"\n",
    "result = re.findall(\"([A-Z][^A-Z]*)\",text)\n",
    "print(result)"
   ]
  },
  {
   "cell_type": "code",
   "execution_count": 12,
   "id": "d9fa9ae6",
   "metadata": {},
   "outputs": [],
   "source": [
    "#8Create a function in python to insert spaces between words starting with numbers.\n",
    "def func(string):\n",
    "    words=re.sub('(\\d+)', r' \\1 ',string)\n",
    "    return(words)\n",
    "       "
   ]
  },
  {
   "cell_type": "code",
   "execution_count": 13,
   "id": "c624380d",
   "metadata": {},
   "outputs": [
    {
     "name": "stdout",
     "output_type": "stream",
     "text": [
      "RegularExpression 1 IsAn 2 ImportantTopic 3 InPython\n"
     ]
    }
   ],
   "source": [
    "print(func(\"RegularExpression1IsAn2ImportantTopic3InPython\"))"
   ]
  },
  {
   "cell_type": "code",
   "execution_count": 14,
   "id": "c87bb5bb",
   "metadata": {},
   "outputs": [],
   "source": [
    "#9Create a function in python to insert spaces between words starting with capital letters or with numbers.\n",
    "def func(string):\n",
    "    words=re.sub(\"(\\w)([A-Z])\", r\"\\1 \\2\",string)\n",
    "    return(words)\n",
    "       \n"
   ]
  },
  {
   "cell_type": "code",
   "execution_count": 15,
   "id": "45a425c6",
   "metadata": {},
   "outputs": [
    {
     "name": "stdout",
     "output_type": "stream",
     "text": [
      "Regular Expression1 Is An2 Important Topic3 In Python\n"
     ]
    }
   ],
   "source": [
    "print(func(\"RegularExpression1IsAn2ImportantTopic3InPython\"))"
   ]
  },
  {
   "cell_type": "code",
   "execution_count": 89,
   "id": "f2cfdbaa",
   "metadata": {},
   "outputs": [
    {
     "name": "stdout",
     "output_type": "stream",
     "text": [
      "['xyz@domain.com', 'xyz.abc@sdomain.domain.com']\n",
      "['hr@fliprobo.com']\n"
     ]
    }
   ],
   "source": [
    "#10)Write a python program to extract email address from the text stored in the text file using Regular Expression.\n",
    "with open(\"C:/Users/s/Documents/file/f2.txt\") as file:\n",
    "     for mail in file:\n",
    "            email=re.findall(\"[a-zA-Z0–9._%+-]+@[a-zA-Z0–9.-]+\\.[a-zA-Z]{2,}\",mail)\n",
    "            print(email)\n",
    "   "
   ]
  },
  {
   "cell_type": "code",
   "execution_count": 29,
   "id": "77c88c53",
   "metadata": {},
   "outputs": [
    {
     "name": "stdout",
     "output_type": "stream",
     "text": [
      "enter stringsaranya_S\n",
      "['saranya_']\n",
      "match\n"
     ]
    }
   ],
   "source": [
    "#11-) Write a Python program to match a string that contains only upper and lowercase letters, numbers, and underscores.\n",
    "string =input(\"enter string\")\n",
    "pattern= '[a-z,A-Z]+[0-9_]+'\n",
    "X = re.findall(pattern,string)\n",
    "if X:\n",
    "    print(X)\n",
    "    print('match')\n",
    "else:\n",
    "    print('not matched')"
   ]
  },
  {
   "cell_type": "code",
   "execution_count": 19,
   "id": "df49d4f0",
   "metadata": {},
   "outputs": [
    {
     "name": "stdout",
     "output_type": "stream",
     "text": [
      "True\n"
     ]
    }
   ],
   "source": [
    "#12Write a Python program where a string will start with a specific number. \n",
    "import re\n",
    "string =\"3d_atascience123_\"\n",
    "X=re.findall(r'\\b3[\\w]*', string)\n",
    "if X:\n",
    "    print(True)\n",
    "else:\n",
    "    print(False)\n"
   ]
  },
  {
   "cell_type": "code",
   "execution_count": 19,
   "id": "687eb3c5",
   "metadata": {},
   "outputs": [
    {
     "name": "stdout",
     "output_type": "stream",
     "text": [
      "216.8.94.196\n"
     ]
    }
   ],
   "source": [
    "#13)Write a Python program to remove leading zeros from an IP address\n",
    "\n",
    "ip =\"216.08.094.196\"\n",
    "string=re.sub('\\.[0]*','.',ip)\n",
    "print(string)"
   ]
  },
  {
   "cell_type": "code",
   "execution_count": 20,
   "id": "9eac167d",
   "metadata": {},
   "outputs": [
    {
     "name": "stdout",
     "output_type": "stream",
     "text": [
      "August 15th 1947\n"
     ]
    }
   ],
   "source": [
    "#14)Write a regular expression in python to match a date string in the form of Month name followed by day number and year stored in a text file.\n",
    "string= \"On August 15th 1947 that India was declared independent from British colonialism\"\n",
    "pattern = \"([a-zA-Z]+) (\\d+[a-z]+) (\\d+)\"\n",
    "matched = re.search(pattern, string)\n",
    "print (\"%s\" % (matched.group()))\n"
   ]
  },
  {
   "cell_type": "code",
   "execution_count": 21,
   "id": "01455546",
   "metadata": {},
   "outputs": [
    {
     "name": "stdout",
     "output_type": "stream",
     "text": [
      "searching for \"fox\" in \"The Quick brown fox jumps over the lazy dog\"\n",
      "['fox']\n",
      "literal found\n",
      "searching for \"dog\" in \"The Quick brown fox jumps over the lazy dog\"\n",
      "['dog']\n",
      "literal found\n",
      "searching for \"horse\" in \"The Quick brown fox jumps over the lazy dog\"\n",
      "[]\n",
      "literal not found\n"
     ]
    }
   ],
   "source": [
    "#15)Write a Python program to search some literals strings in a string. \n",
    "patterns=['fox','dog','horse']\n",
    "text ='The Quick brown fox jumps over the lazy dog'\n",
    "for pattern in patterns:\n",
    "    print('searching for \"%s\" in \"%s\"' %(pattern,text))\n",
    "    x=re.findall(pattern,text)\n",
    "    if x:\n",
    "        print(x)\n",
    "        print('literal found')\n",
    "    else:\n",
    "        print(x)\n",
    "        print('literal not found')\n",
    "        \n",
    "    "
   ]
  },
  {
   "cell_type": "code",
   "execution_count": 22,
   "id": "259ce5bd",
   "metadata": {},
   "outputs": [
    {
     "name": "stdout",
     "output_type": "stream",
     "text": [
      "\"fox\" , 16 to 19 \n"
     ]
    }
   ],
   "source": [
    "#16)Write a Python program to search a literals string in a string and also find the location within the original string where the pattern occurs\n",
    "pattern = 'fox'\n",
    "text = 'The quick brown fox jumps over the lazy dog.'\n",
    "match = re.search(pattern, text)\n",
    "s = match.start()\n",
    "e = match.end()\n",
    "print('\"%s\" , %d to %d ' %(match.re.pattern,s, e))"
   ]
  },
  {
   "cell_type": "code",
   "execution_count": 23,
   "id": "411217ea",
   "metadata": {},
   "outputs": [
    {
     "name": "stdout",
     "output_type": "stream",
     "text": [
      "exercises\n",
      "exercises\n",
      "exercises\n"
     ]
    }
   ],
   "source": [
    "#17-) Write a Python program to find the substrings within a string.\n",
    "text = 'Python exercises, PHP exercises, C# exercises'\n",
    "pattern = 'exercises'\n",
    "for match in re.findall(pattern, text):\n",
    "    print(match)"
   ]
  },
  {
   "cell_type": "code",
   "execution_count": 7,
   "id": "ef61c306",
   "metadata": {},
   "outputs": [
    {
     "name": "stdout",
     "output_type": "stream",
     "text": [
      "\"exercises\" at 7:16\n",
      "\"exercises\" at 22:31\n",
      "\"exercises\" at 36:45\n"
     ]
    }
   ],
   "source": [
    "#18- Write a Python program to find the occurrence and position of the substrings within a string.\n",
    "text = 'Python exercises, PHP exercises, C# exercises'\n",
    "pattern = 'exercises'\n",
    "for match in re.finditer(pattern, text):\n",
    "    s = match.start()\n",
    "    e = match.end()\n",
    "    print('\"%s\" at %d:%d' % (text[s:e], s, e))"
   ]
  },
  {
   "cell_type": "code",
   "execution_count": 25,
   "id": "13af5c53",
   "metadata": {},
   "outputs": [
    {
     "name": "stdout",
     "output_type": "stream",
     "text": [
      "yy-mm-dd format 2023-01-02\n",
      "new date format 02-01-2023\n"
     ]
    }
   ],
   "source": [
    "#19)Write a Python program to convert a date of yyyy-mm-dd format to dd-mm-yyyy format.\n",
    "date1 =\"2023-01-02\"\n",
    "print('yy-mm-dd format',date1)\n",
    "print('new date format',re.sub(r'(\\d{4})-(\\d{1,2})-(\\d{1,2})', '\\\\3-\\\\2-\\\\1', date1))"
   ]
  },
  {
   "cell_type": "code",
   "execution_count": 70,
   "id": "63bd9bb8",
   "metadata": {},
   "outputs": [],
   "source": [
    "#20Create a function in python to find all decimal numbers with a precision of 1 or 2 in a string.The use of the re.compile() method is mandatory.\n",
    "def decimal(numb):\n",
    "    d = re.compile(r\"\"\"^[0-9]+(\\.[0-9]{1,2})?$\"\"\")\n",
    "    result =d.findall(numb)\n",
    "    return bool(result)\n"
   ]
  },
  {
   "cell_type": "code",
   "execution_count": 74,
   "id": "37c43ee3",
   "metadata": {},
   "outputs": [
    {
     "name": "stdout",
     "output_type": "stream",
     "text": [
      "True\n",
      "True\n",
      "False\n",
      "True\n"
     ]
    }
   ],
   "source": [
    "print(decimal('20.9'))\n",
    "print(decimal('20.45'))\n",
    "print(decimal('28.456'))"
   ]
  },
  {
   "cell_type": "code",
   "execution_count": 31,
   "id": "5a4fc7f0",
   "metadata": {},
   "outputs": [
    {
     "name": "stdout",
     "output_type": "stream",
     "text": [
      "0123\n"
     ]
    }
   ],
   "source": [
    "#21)Write a Python program to separate and print the numbers and their position of a given string.\n",
    "text = \"welcome to DataTrained family DSG0123\"\n",
    "for m in re.finditer(\"\\d+\", text):\n",
    "    print(m.group(0))\n"
   ]
  },
  {
   "cell_type": "code",
   "execution_count": 40,
   "id": "f3899165",
   "metadata": {},
   "outputs": [],
   "source": [
    "#22)Extract maximum numeric value from a string\n",
    "def Max(marks):\n",
    "    numbers = re.findall('\\d+',marks)\n",
    "    print(numbers)\n",
    "    numbers = map(int,numbers) \n",
    "    print (\"Maximum Numeric value \",max(numbers))\n",
    "    "
   ]
  },
  {
   "cell_type": "code",
   "execution_count": 42,
   "id": "76e0e7d9",
   "metadata": {},
   "outputs": [
    {
     "name": "stdout",
     "output_type": "stream",
     "text": [
      "['947', '896', '926', '524', '734', '950', '642']\n",
      "Maximum Numeric value  950\n"
     ]
    }
   ],
   "source": [
    "   Max('947, 896, 926, 524, 734, 950, 642')"
   ]
  },
  {
   "cell_type": "code",
   "execution_count": 43,
   "id": "5ceefb3e",
   "metadata": {},
   "outputs": [],
   "source": [
    "#23Create a function in python to insert spaces between words starting with capital letters.\n",
    "def func(string):\n",
    "    words = re.findall('[A-Z][a-z]*',string)\n",
    "    return(' '.join(words))"
   ]
  },
  {
   "cell_type": "code",
   "execution_count": 44,
   "id": "2b1a18fb",
   "metadata": {},
   "outputs": [
    {
     "name": "stdout",
     "output_type": "stream",
     "text": [
      "Regular Expression Is An Important Topic In Python\n"
     ]
    }
   ],
   "source": [
    "print(func('RegularExpressionIsAnImportantTopicInPython'))"
   ]
  },
  {
   "cell_type": "code",
   "execution_count": 47,
   "id": "00112c50",
   "metadata": {},
   "outputs": [],
   "source": [
    "#24)Python regex to find sequences of one upper case letter followed by lower case letters\n",
    "def match(text):\n",
    "    pattern ='[A-Z][a-z]*$'\n",
    "    if re.search(pattern,text):\n",
    "        return('yes match')\n",
    "    else:\n",
    "        return('no')\n"
   ]
  },
  {
   "cell_type": "code",
   "execution_count": 48,
   "id": "457302ea",
   "metadata": {},
   "outputs": [
    {
     "name": "stdout",
     "output_type": "stream",
     "text": [
      "no\n",
      "yes match\n"
     ]
    }
   ],
   "source": [
    "print(match(\"welcome\"))\n",
    "print(match(\"Welcome\"))"
   ]
  },
  {
   "cell_type": "code",
   "execution_count": 87,
   "id": "f82d6f5a",
   "metadata": {},
   "outputs": [],
   "source": [
    "#25)Write a Python program to remove continuous duplicate words from Sentence using Regular Expression.\n",
    "def f(string):\n",
    "    dup = r'\\b(\\w+)(?:\\W+\\1\\b)+'\n",
    "    return(re.sub(dup, r'\\1', string)) \n",
    "    "
   ]
  },
  {
   "cell_type": "code",
   "execution_count": 88,
   "id": "c1e994dc",
   "metadata": {},
   "outputs": [
    {
     "name": "stdout",
     "output_type": "stream",
     "text": [
      "Data TRAINED\n"
     ]
    }
   ],
   "source": [
    "   print(f('Data TRAINED TRAINED'))"
   ]
  },
  {
   "cell_type": "code",
   "execution_count": 63,
   "id": "5924cd4a",
   "metadata": {},
   "outputs": [],
   "source": [
    "#26)Write a python program using RegEx to accept string ending with alphanumeric character.\n",
    "def regex(text):\n",
    "    pattern='[A-Za-z0-9]$'\n",
    "    if re.search(pattern,text):\n",
    "        return('string ends with alphanumeric charctr')\n",
    "    else:\n",
    "        return('string not ends with alphanumeric')\n",
    "    "
   ]
  },
  {
   "cell_type": "code",
   "execution_count": 64,
   "id": "a0946f74",
   "metadata": {},
   "outputs": [
    {
     "name": "stdout",
     "output_type": "stream",
     "text": [
      "string not ends with alphanumeric\n",
      "string ends with alphanumeric charctr\n",
      "string not ends with alphanumeric\n"
     ]
    }
   ],
   "source": [
    "print(regex(\"datascience@#\"))\n",
    "print(regex(\"datatrained123\"))\n",
    "print(regex(\"fliprobo.\"))"
   ]
  },
  {
   "cell_type": "code",
   "execution_count": 65,
   "id": "39652fad",
   "metadata": {},
   "outputs": [
    {
     "name": "stdout",
     "output_type": "stream",
     "text": [
      "RT @kapil_kausik: #Doltiwal I mean #xyzabc is \"hurt\" by #Demonetization as the same has rendered USELESS<ed><U+00A0>\n",
      "<U+00BD><ed><U+00B1><U+0089> \"acquired funds\" No wo\n",
      "hashtags: ['#Doltiwal', '#xyzabc', '#Demonetization']\n"
     ]
    }
   ],
   "source": [
    "#27)Write a python program using RegEx to extract the hashtags\n",
    "\n",
    "text = \"\"\"RT @kapil_kausik: #Doltiwal I mean #xyzabc is \"hurt\" by #Demonetization as the same has rendered USELESS<ed><U+00A0>\n",
    "<U+00BD><ed><U+00B1><U+0089> \"acquired funds\" No wo\"\"\"\n",
    "hashtags = re.findall(\"#\\w+\", text)\n",
    "print(text)\n",
    "print(\"hashtags:\",hashtags)"
   ]
  },
  {
   "cell_type": "code",
   "execution_count": 66,
   "id": "6fc29772",
   "metadata": {},
   "outputs": [
    {
     "name": "stdout",
     "output_type": "stream",
     "text": [
      "Text before:\n",
      " @Jags123456 Bharat band on 28??<ed><U+00A0><U+00BD><ed><U+00B8><U+0082>Those whoare protesting#demonetization are all different party leaders\n",
      "Text after:\n",
      " @Jags123456 Bharat band on 28??<ed><ed>Those whoare protesting#demonetization are all different party leaders\n"
     ]
    }
   ],
   "source": [
    "#28Write a python program using RegEx to remove <U+..> like symbols\n",
    "text= \"@Jags123456 Bharat band on 28??<ed><U+00A0><U+00BD><ed><U+00B8><U+0082>Those whoare protesting#demonetization are all different party leaders\"\n",
    "text1 = re.sub(r\"<U\\+[A-Z0-9]+>\", \"\", text)\n",
    "print(\"Text before:\\n\", text)\n",
    "print(\"Text after:\\n\", text1)"
   ]
  },
  {
   "cell_type": "code",
   "execution_count": 67,
   "id": "04fb1831",
   "metadata": {},
   "outputs": [
    {
     "name": "stdout",
     "output_type": "stream",
     "text": [
      "['12-09-1992', '15-12-1999']\n"
     ]
    }
   ],
   "source": [
    "#29)Write a python program to extract dates from the text stored in the text file.\n",
    "with open(\"C:/Users/s/Documents/file/f1.txt\") as file:\n",
    "     for date in file:\n",
    "            datextra=re.findall(r\"\\d{2}-\\d{2}-\\d{4}\",date)\n",
    "            print(datextra)\n",
    "    "
   ]
  },
  {
   "cell_type": "code",
   "execution_count": 27,
   "id": "9e9a8b6f",
   "metadata": {},
   "outputs": [],
   "source": [
    "#30)Create a function in python to remove all words from a string of length between 2 and 4.\n",
    "import re\n",
    "def f1(string):\n",
    "    pattern =r'\\b\\w{,3}\\b' \n",
    "    result=re.compile(pattern)\n",
    "    return(re.sub(result,\"\",string))\n",
    " "
   ]
  },
  {
   "cell_type": "code",
   "execution_count": 28,
   "id": "472c01ee",
   "metadata": {},
   "outputs": [
    {
     "name": "stdout",
     "output_type": "stream",
     "text": [
      " following example creates  ArrayList with  capacity   elements.  elements  then added   ArrayListand  ArrayListis trimmed accordingly.\n"
     ]
    }
   ],
   "source": [
    "print(f1(\"The following example creates an ArrayList with a capacity of 50 elements. 4 elements are then added to the ArrayListand the ArrayListis trimmed accordingly.\"))\n"
   ]
  },
  {
   "cell_type": "code",
   "execution_count": null,
   "id": "2c046c74",
   "metadata": {},
   "outputs": [],
   "source": []
  },
  {
   "cell_type": "code",
   "execution_count": null,
   "id": "090ce50c",
   "metadata": {},
   "outputs": [],
   "source": []
  }
 ],
 "metadata": {
  "kernelspec": {
   "display_name": "Python 3 (ipykernel)",
   "language": "python",
   "name": "python3"
  },
  "language_info": {
   "codemirror_mode": {
    "name": "ipython",
    "version": 3
   },
   "file_extension": ".py",
   "mimetype": "text/x-python",
   "name": "python",
   "nbconvert_exporter": "python",
   "pygments_lexer": "ipython3",
   "version": "3.9.13"
  }
 },
 "nbformat": 4,
 "nbformat_minor": 5
}
