{
 "cells": [
  {
   "cell_type": "code",
   "execution_count": 7,
   "id": "b9f16c10",
   "metadata": {},
   "outputs": [
    {
     "name": "stdout",
     "output_type": "stream",
     "text": [
      "enter the number7\n",
      "factorial 5040\n"
     ]
    }
   ],
   "source": [
    "#11)python Program to print the factorial of a given number\n",
    "import re\n",
    "fact=1\n",
    "num=int(input(\"enter the number\"))\n",
    "for i in range(1,num+1):\n",
    "    fact=fact*i;\n",
    "print(\"factorial\",fact) "
   ]
  },
  {
   "cell_type": "code",
   "execution_count": 2,
   "id": "6ee754a2",
   "metadata": {},
   "outputs": [
    {
     "name": "stdout",
     "output_type": "stream",
     "text": [
      "enter the number5\n",
      "prime number\n"
     ]
    }
   ],
   "source": [
    "#12)Write a python program to find whether a number is prime or composite\n",
    "import re\n",
    "num=int(input(\"enter the number\"))\n",
    "if num==1:\n",
    "    print(\"neither prime nor composite\")\n",
    "else:\n",
    "    for i in range(2,num):\n",
    "        if num % i ==0:\n",
    "            print(\"not a prime number its composite\")\n",
    "            break\n",
    "    else:\n",
    "        print(\"prime number\")\n",
    " \n",
    "    \n"
   ]
  },
  {
   "cell_type": "code",
   "execution_count": 8,
   "id": "dd36378f",
   "metadata": {},
   "outputs": [
    {
     "name": "stdout",
     "output_type": "stream",
     "text": [
      "enter the stringdadudff\n",
      "ffdudad\n",
      "not palindrome\n"
     ]
    }
   ],
   "source": [
    "#13) Write a python program to check whether a given string is palindrome or not.\n",
    "import re\n",
    "string =input(\"enter the string\")\n",
    "str=string[::-1]\n",
    "print(str)\n",
    "if(str ==string):\n",
    "    print(\"palindrome\")\n",
    "else:\n",
    "    print(\"not palindrome\")\n",
    "    \n",
    "\n",
    "    \n"
   ]
  },
  {
   "cell_type": "code",
   "execution_count": 12,
   "id": "23949b7e",
   "metadata": {},
   "outputs": [
    {
     "name": "stdout",
     "output_type": "stream",
     "text": [
      "enter the string\n",
      "datatrained\n",
      "d - 2\n",
      "a - 3\n",
      "t - 2\n",
      "r - 1\n",
      "i - 1\n",
      "n - 1\n",
      "e - 1\n"
     ]
    }
   ],
   "source": [
    "#14)Write a python program to print the frequency of each of the characters present in a given string.\n",
    "string1=input(\"enter the string\\n\")\n",
    "string2=[]\n",
    "for i in string1:\n",
    "    if(i not in string2):\n",
    "        print(i,\"-\",string1.count(i))\n",
    "        string2.append(i)"
   ]
  },
  {
   "cell_type": "code",
   "execution_count": 6,
   "id": "b84e64b9",
   "metadata": {},
   "outputs": [
    {
     "name": "stdout",
     "output_type": "stream",
     "text": [
      "enter the sides:\n",
      "a: 3\n",
      "b: 4\n",
      "The length of the hypotenuse is: 5\n"
     ]
    }
   ],
   "source": [
    "#14. Write a Python program to get the third side of right-angled triangle from two given sides\n",
    "from math import sqrt \n",
    "print(\"enter the sides:\")\n",
    "a = float(input(\"a: \"))\n",
    "b = float(input(\"b: \"))\n",
    "c = sqrt(a**2 + b**2)\n",
    "print(\"The length of the hypotenuse is:\", round(c)) \n",
    "\n",
    " \n"
   ]
  },
  {
   "cell_type": "code",
   "execution_count": null,
   "id": "b9ca2b21",
   "metadata": {},
   "outputs": [],
   "source": []
  },
  {
   "cell_type": "code",
   "execution_count": null,
   "id": "06d4181e",
   "metadata": {},
   "outputs": [],
   "source": []
  },
  {
   "cell_type": "code",
   "execution_count": null,
   "id": "40cfc623",
   "metadata": {},
   "outputs": [],
   "source": []
  },
  {
   "cell_type": "code",
   "execution_count": null,
   "id": "0db717e8",
   "metadata": {},
   "outputs": [],
   "source": []
  }
 ],
 "metadata": {
  "kernelspec": {
   "display_name": "Python 3 (ipykernel)",
   "language": "python",
   "name": "python3"
  },
  "language_info": {
   "codemirror_mode": {
    "name": "ipython",
    "version": 3
   },
   "file_extension": ".py",
   "mimetype": "text/x-python",
   "name": "python",
   "nbconvert_exporter": "python",
   "pygments_lexer": "ipython3",
   "version": "3.9.13"
  }
 },
 "nbformat": 4,
 "nbformat_minor": 5
}
